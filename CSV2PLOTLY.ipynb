{
 "cells": [
  {
   "cell_type": "code",
   "execution_count": 1,
   "metadata": {},
   "outputs": [],
   "source": [
    "file = \"2017-06-30_14.45.24 (2n1b1r10p)\"\n",
    "yAxis1 = 'CurrentDriversDelay'\n",
    "# yAxis2 = 'ActiveDrivers'\n",
    "yAxis2 = 'Errors'\n",
    "from_index = 0\n",
    "extra_axis = True"
   ]
  },
  {
   "cell_type": "code",
   "execution_count": 2,
   "metadata": {
    "collapsed": true
   },
   "outputs": [
    {
     "data": {
      "text/html": [
       "<script>requirejs.config({paths: { 'plotly': ['https://cdn.plot.ly/plotly-latest.min']},});if(!window.Plotly) {{require(['plotly'],function(plotly) {window.Plotly=plotly;});}}</script>"
      ],
      "text/plain": [
       "<script>requirejs.config({paths: { 'plotly': ['https://cdn.plot.ly/plotly-latest.min']},});if(!window.Plotly) {{require(['plotly'],function(plotly) {window.Plotly=plotly;});}}</script>"
      ]
     },
     "execution_count": 0,
     "metadata": {},
     "output_type": "execute_result"
    }
   ],
   "source": [
    "import pandas as pd\n",
    "\n",
    "from plotly.graph_objs import *\n",
    "from plotly.offline import init_notebook_mode, plot, iplot\n",
    "init_notebook_mode(connected=True)\n",
    "\n",
    "df = pd.read_csv(\"CSV_Files/\"+file+\".csv\", sep=\";\", parse_dates=[\"Time\"])\n",
    "\n",
    "df1 = df.set_index([\"PcKey\", \"Timestamp\"])\n",
    "df1 = df1.sort_index()\n",
    "\n",
    "list_df = []\n",
    "dfs_yAxis2 = []\n",
    "pc_ids = df[\"PcKey\"].unique()        # give me all the PcKeys without duplicates\n",
    "pc_ids = pc_ids[from_index:]\n",
    "\n",
    "# for each pc\n",
    "for pc_id in pc_ids:\n",
    "    df2 = df1.loc[pc_id, ['Time', yAxis1]]    # build a dataframe per vehicle\n",
    "    df2 = df2.set_index(\"Time\")                         # index by time\n",
    "    df2 = df2.resample('1S').mean()                    # add rows with 1s difference\n",
    "    df2 = df2.round(0)\n",
    "    \n",
    "    pc_info = {\"name\": pc_id, \"delay\": df2[yAxis1]}     # build a dictionary\n",
    "    list_df.append(pc_info)\n",
    "    \n",
    "    if extra_axis:\n",
    "        df3 = df1.loc[pc_id, ['Time', yAxis2]]    # build a dataframe per vehicle\n",
    "        df3 = df3.set_index(\"Time\")               # index by time\n",
    "        df3 = df3.resample('1S').mean()\n",
    "        df3 = df3.round(0)\n",
    "        df3 = df3.bfill()\n",
    "        dfs_yAxis2.append(df3)"
   ]
  },
  {
   "cell_type": "code",
   "execution_count": 3,
   "metadata": {
    "scrolled": true
   },
   "outputs": [],
   "source": [
    "aux = len(dfs_yAxis2)-1\n",
    "df_total = dfs_yAxis2[aux]\n",
    "while aux >= 0:\n",
    "    df_total = (df_total.reindex_like(dfs_yAxis2[aux]).fillna(0) + dfs_yAxis2[aux].fillna(0))\\\n",
    "        .fillna(0)\n",
    "    aux -= 1\n",
    "    \n",
    "df_total = {\"name\": yAxis2, \"drivers\": df_total[yAxis2]}"
   ]
  },
  {
   "cell_type": "code",
   "execution_count": 4,
   "metadata": {},
   "outputs": [
    {
     "data": {
      "text/plain": [
       "'file://C:\\\\Users\\\\Equipo2\\\\GIT\\\\CSVPlotter\\\\temp-plot.html'"
      ]
     },
     "execution_count": 4,
     "metadata": {},
     "output_type": "execute_result"
    }
   ],
   "source": [
    "import plotly.graph_objs as go\n",
    "import numpy as np\n",
    "date = []\n",
    "traces = []\n",
    "menu = []\n",
    "index = 0\n",
    "\n",
    "for pc_data in list_df:\n",
    "    traces.append(go.Scatter(x=pc_data[\"delay\"].index, y=pc_data[\"delay\"], name=pc_data[\"name\"],\n",
    "                             mode='lines+markers', connectgaps=True, opacity=0.8))\n",
    "\n",
    "if extra_axis:\n",
    "    traces.append(go.Scatter(x=df_total[\"drivers\"].index, y=df_total[\"drivers\"], \n",
    "                             name=df_total[\"name\"], mode='lines+markers', connectgaps=True,\n",
    "                             opacity=0.8, yaxis='y2'))\n",
    "\n",
    "menu.append(dict(args=['visible', [True]*(len(list_df))], label='All', method='restyle'))\n",
    "zeros = np.zeros(len(list_df))\n",
    "\n",
    "for index, pc_id in enumerate(list_df):\n",
    "    \n",
    "    array = [False]*(len(list_df))\n",
    "    array[index] = True\n",
    "    menu.append(dict(args=['visible', array], label=pc_id[\"name\"], method='restyle'))\n",
    "\n",
    "\n",
    "title = \"Evolución temporal, file: \" + file\n",
    "updateMenus = list([dict(\n",
    "        x=-0.15,\n",
    "        y=1,\n",
    "        yanchor='top',\n",
    "        buttons=list(menu),)])\n",
    "\n",
    "if extra_axis:\n",
    "    xAxis = dict(\n",
    "        rangeselector=dict(\n",
    "            buttons=list([\n",
    "                dict(count=20,\n",
    "                     label='20s',\n",
    "                     step='second',\n",
    "                     stepmode='backward'),\n",
    "                dict(count=1,\n",
    "                     label='1m',\n",
    "                     step='minute',\n",
    "                     stepmode='backward'),\n",
    "                dict(step='all')\n",
    "            ])\n",
    "        ),\n",
    "        rangeslider=dict(visible=False),\n",
    "        type='date'\n",
    "    )\n",
    "    yAxis = dict(title=yAxis1)\n",
    "    yAxis2 = dict(\n",
    "        title=yAxis2,\n",
    "        titlefont=dict(color='rgb(148, 103, 189)'),\n",
    "        tickfont=dict(color='rgb(148, 103, 189)'),\n",
    "        overlaying='y',\n",
    "        side='right'\n",
    "    )\n",
    "    \n",
    "    layout = Layout(title=title, updatemenus=updateMenus, xaxis=xAxis,\n",
    "                    yaxis=yAxis, yaxis2=yAxis2, autosize=True)\n",
    "else:\n",
    "    layout = Layout(title=title, updatemenus=updateMenus, autosize=True)\n",
    "\n",
    "fig = Figure(data=traces, layout=layout)\n",
    "# iplot(fig)    # Looks good, doesnt work xD\n",
    "plot(fig)"
   ]
  },
  {
   "cell_type": "code",
   "execution_count": null,
   "metadata": {
    "collapsed": true
   },
   "outputs": [],
   "source": [
    ""
   ]
  },
  {
   "cell_type": "code",
   "execution_count": null,
   "metadata": {},
   "outputs": [],
   "source": [
    ""
   ]
  }
 ],
 "metadata": {
  "kernelspec": {
   "display_name": "Python 3",
   "language": "python",
   "name": "python3"
  },
  "language_info": {
   "codemirror_mode": {
    "name": "ipython",
    "version": 3.0
   },
   "file_extension": ".py",
   "mimetype": "text/x-python",
   "name": "python",
   "nbconvert_exporter": "python",
   "pygments_lexer": "ipython3",
   "version": "3.5.3"
  }
 },
 "nbformat": 4,
 "nbformat_minor": 0
}